{
  "nbformat": 4,
  "nbformat_minor": 0,
  "metadata": {
    "colab": {
      "name": "3_mnist_lineaire.ipynb",
      "provenance": []
    },
    "language_info": {
      "name": "python"
    },
    "kernelspec": {
      "name": "python3",
      "display_name": "Python 3"
    },
    "widgets": {
      "application/vnd.jupyter.widget-state+json": {
        "2c6f7ef8669c4a80aab57cdb2a92dddd": {
          "model_module": "@jupyter-widgets/controls",
          "model_name": "HBoxModel",
          "model_module_version": "1.5.0",
          "state": {
            "_dom_classes": [],
            "_model_module": "@jupyter-widgets/controls",
            "_model_module_version": "1.5.0",
            "_model_name": "HBoxModel",
            "_view_count": null,
            "_view_module": "@jupyter-widgets/controls",
            "_view_module_version": "1.5.0",
            "_view_name": "HBoxView",
            "box_style": "",
            "children": [
              "IPY_MODEL_3970dbaa84404099b4cfab7672989df1",
              "IPY_MODEL_9d8953a1ec4543e3a9229ebca8153783",
              "IPY_MODEL_f9cd2d442a9546de863c5bffe323207f"
            ],
            "layout": "IPY_MODEL_145a9680f5c3463eb0f899f55818042c"
          }
        },
        "3970dbaa84404099b4cfab7672989df1": {
          "model_module": "@jupyter-widgets/controls",
          "model_name": "HTMLModel",
          "model_module_version": "1.5.0",
          "state": {
            "_dom_classes": [],
            "_model_module": "@jupyter-widgets/controls",
            "_model_module_version": "1.5.0",
            "_model_name": "HTMLModel",
            "_view_count": null,
            "_view_module": "@jupyter-widgets/controls",
            "_view_module_version": "1.5.0",
            "_view_name": "HTMLView",
            "description": "",
            "description_tooltip": null,
            "layout": "IPY_MODEL_df411a82b2274e51942b6a32048a004c",
            "placeholder": "​",
            "style": "IPY_MODEL_42081585306749c8a3cd55c769b35684",
            "value": "100%"
          }
        },
        "9d8953a1ec4543e3a9229ebca8153783": {
          "model_module": "@jupyter-widgets/controls",
          "model_name": "FloatProgressModel",
          "model_module_version": "1.5.0",
          "state": {
            "_dom_classes": [],
            "_model_module": "@jupyter-widgets/controls",
            "_model_module_version": "1.5.0",
            "_model_name": "FloatProgressModel",
            "_view_count": null,
            "_view_module": "@jupyter-widgets/controls",
            "_view_module_version": "1.5.0",
            "_view_name": "ProgressView",
            "bar_style": "success",
            "description": "",
            "description_tooltip": null,
            "layout": "IPY_MODEL_804c2f54060242f88582ad64968ab209",
            "max": 9912422,
            "min": 0,
            "orientation": "horizontal",
            "style": "IPY_MODEL_37d269f8993048e7a630be83d7f0fccd",
            "value": 9912422
          }
        },
        "f9cd2d442a9546de863c5bffe323207f": {
          "model_module": "@jupyter-widgets/controls",
          "model_name": "HTMLModel",
          "model_module_version": "1.5.0",
          "state": {
            "_dom_classes": [],
            "_model_module": "@jupyter-widgets/controls",
            "_model_module_version": "1.5.0",
            "_model_name": "HTMLModel",
            "_view_count": null,
            "_view_module": "@jupyter-widgets/controls",
            "_view_module_version": "1.5.0",
            "_view_name": "HTMLView",
            "description": "",
            "description_tooltip": null,
            "layout": "IPY_MODEL_f6c6e88d9ac74ef1a7f93b70d3f8ce1b",
            "placeholder": "​",
            "style": "IPY_MODEL_0d55eb5c71274ae8b380e314285e24ed",
            "value": " 9912422/9912422 [00:00&lt;00:00, 21278623.02it/s]"
          }
        },
        "145a9680f5c3463eb0f899f55818042c": {
          "model_module": "@jupyter-widgets/base",
          "model_name": "LayoutModel",
          "model_module_version": "1.2.0",
          "state": {
            "_model_module": "@jupyter-widgets/base",
            "_model_module_version": "1.2.0",
            "_model_name": "LayoutModel",
            "_view_count": null,
            "_view_module": "@jupyter-widgets/base",
            "_view_module_version": "1.2.0",
            "_view_name": "LayoutView",
            "align_content": null,
            "align_items": null,
            "align_self": null,
            "border": null,
            "bottom": null,
            "display": null,
            "flex": null,
            "flex_flow": null,
            "grid_area": null,
            "grid_auto_columns": null,
            "grid_auto_flow": null,
            "grid_auto_rows": null,
            "grid_column": null,
            "grid_gap": null,
            "grid_row": null,
            "grid_template_areas": null,
            "grid_template_columns": null,
            "grid_template_rows": null,
            "height": null,
            "justify_content": null,
            "justify_items": null,
            "left": null,
            "margin": null,
            "max_height": null,
            "max_width": null,
            "min_height": null,
            "min_width": null,
            "object_fit": null,
            "object_position": null,
            "order": null,
            "overflow": null,
            "overflow_x": null,
            "overflow_y": null,
            "padding": null,
            "right": null,
            "top": null,
            "visibility": null,
            "width": null
          }
        },
        "df411a82b2274e51942b6a32048a004c": {
          "model_module": "@jupyter-widgets/base",
          "model_name": "LayoutModel",
          "model_module_version": "1.2.0",
          "state": {
            "_model_module": "@jupyter-widgets/base",
            "_model_module_version": "1.2.0",
            "_model_name": "LayoutModel",
            "_view_count": null,
            "_view_module": "@jupyter-widgets/base",
            "_view_module_version": "1.2.0",
            "_view_name": "LayoutView",
            "align_content": null,
            "align_items": null,
            "align_self": null,
            "border": null,
            "bottom": null,
            "display": null,
            "flex": null,
            "flex_flow": null,
            "grid_area": null,
            "grid_auto_columns": null,
            "grid_auto_flow": null,
            "grid_auto_rows": null,
            "grid_column": null,
            "grid_gap": null,
            "grid_row": null,
            "grid_template_areas": null,
            "grid_template_columns": null,
            "grid_template_rows": null,
            "height": null,
            "justify_content": null,
            "justify_items": null,
            "left": null,
            "margin": null,
            "max_height": null,
            "max_width": null,
            "min_height": null,
            "min_width": null,
            "object_fit": null,
            "object_position": null,
            "order": null,
            "overflow": null,
            "overflow_x": null,
            "overflow_y": null,
            "padding": null,
            "right": null,
            "top": null,
            "visibility": null,
            "width": null
          }
        },
        "42081585306749c8a3cd55c769b35684": {
          "model_module": "@jupyter-widgets/controls",
          "model_name": "DescriptionStyleModel",
          "model_module_version": "1.5.0",
          "state": {
            "_model_module": "@jupyter-widgets/controls",
            "_model_module_version": "1.5.0",
            "_model_name": "DescriptionStyleModel",
            "_view_count": null,
            "_view_module": "@jupyter-widgets/base",
            "_view_module_version": "1.2.0",
            "_view_name": "StyleView",
            "description_width": ""
          }
        },
        "804c2f54060242f88582ad64968ab209": {
          "model_module": "@jupyter-widgets/base",
          "model_name": "LayoutModel",
          "model_module_version": "1.2.0",
          "state": {
            "_model_module": "@jupyter-widgets/base",
            "_model_module_version": "1.2.0",
            "_model_name": "LayoutModel",
            "_view_count": null,
            "_view_module": "@jupyter-widgets/base",
            "_view_module_version": "1.2.0",
            "_view_name": "LayoutView",
            "align_content": null,
            "align_items": null,
            "align_self": null,
            "border": null,
            "bottom": null,
            "display": null,
            "flex": null,
            "flex_flow": null,
            "grid_area": null,
            "grid_auto_columns": null,
            "grid_auto_flow": null,
            "grid_auto_rows": null,
            "grid_column": null,
            "grid_gap": null,
            "grid_row": null,
            "grid_template_areas": null,
            "grid_template_columns": null,
            "grid_template_rows": null,
            "height": null,
            "justify_content": null,
            "justify_items": null,
            "left": null,
            "margin": null,
            "max_height": null,
            "max_width": null,
            "min_height": null,
            "min_width": null,
            "object_fit": null,
            "object_position": null,
            "order": null,
            "overflow": null,
            "overflow_x": null,
            "overflow_y": null,
            "padding": null,
            "right": null,
            "top": null,
            "visibility": null,
            "width": null
          }
        },
        "37d269f8993048e7a630be83d7f0fccd": {
          "model_module": "@jupyter-widgets/controls",
          "model_name": "ProgressStyleModel",
          "model_module_version": "1.5.0",
          "state": {
            "_model_module": "@jupyter-widgets/controls",
            "_model_module_version": "1.5.0",
            "_model_name": "ProgressStyleModel",
            "_view_count": null,
            "_view_module": "@jupyter-widgets/base",
            "_view_module_version": "1.2.0",
            "_view_name": "StyleView",
            "bar_color": null,
            "description_width": ""
          }
        },
        "f6c6e88d9ac74ef1a7f93b70d3f8ce1b": {
          "model_module": "@jupyter-widgets/base",
          "model_name": "LayoutModel",
          "model_module_version": "1.2.0",
          "state": {
            "_model_module": "@jupyter-widgets/base",
            "_model_module_version": "1.2.0",
            "_model_name": "LayoutModel",
            "_view_count": null,
            "_view_module": "@jupyter-widgets/base",
            "_view_module_version": "1.2.0",
            "_view_name": "LayoutView",
            "align_content": null,
            "align_items": null,
            "align_self": null,
            "border": null,
            "bottom": null,
            "display": null,
            "flex": null,
            "flex_flow": null,
            "grid_area": null,
            "grid_auto_columns": null,
            "grid_auto_flow": null,
            "grid_auto_rows": null,
            "grid_column": null,
            "grid_gap": null,
            "grid_row": null,
            "grid_template_areas": null,
            "grid_template_columns": null,
            "grid_template_rows": null,
            "height": null,
            "justify_content": null,
            "justify_items": null,
            "left": null,
            "margin": null,
            "max_height": null,
            "max_width": null,
            "min_height": null,
            "min_width": null,
            "object_fit": null,
            "object_position": null,
            "order": null,
            "overflow": null,
            "overflow_x": null,
            "overflow_y": null,
            "padding": null,
            "right": null,
            "top": null,
            "visibility": null,
            "width": null
          }
        },
        "0d55eb5c71274ae8b380e314285e24ed": {
          "model_module": "@jupyter-widgets/controls",
          "model_name": "DescriptionStyleModel",
          "model_module_version": "1.5.0",
          "state": {
            "_model_module": "@jupyter-widgets/controls",
            "_model_module_version": "1.5.0",
            "_model_name": "DescriptionStyleModel",
            "_view_count": null,
            "_view_module": "@jupyter-widgets/base",
            "_view_module_version": "1.2.0",
            "_view_name": "StyleView",
            "description_width": ""
          }
        },
        "ca6d57976dfe42db93e4e0cac04ab77d": {
          "model_module": "@jupyter-widgets/controls",
          "model_name": "HBoxModel",
          "model_module_version": "1.5.0",
          "state": {
            "_dom_classes": [],
            "_model_module": "@jupyter-widgets/controls",
            "_model_module_version": "1.5.0",
            "_model_name": "HBoxModel",
            "_view_count": null,
            "_view_module": "@jupyter-widgets/controls",
            "_view_module_version": "1.5.0",
            "_view_name": "HBoxView",
            "box_style": "",
            "children": [
              "IPY_MODEL_5e7f0c7e56b24afab03b3a1fa39e0860",
              "IPY_MODEL_86001bac08bd48b1a9f3753d9c4f4e59",
              "IPY_MODEL_1a867c87d5a14e3c94932e9c2d5eab0f"
            ],
            "layout": "IPY_MODEL_c1ada7e100874ac5abb31e9e1d2a8d26"
          }
        },
        "5e7f0c7e56b24afab03b3a1fa39e0860": {
          "model_module": "@jupyter-widgets/controls",
          "model_name": "HTMLModel",
          "model_module_version": "1.5.0",
          "state": {
            "_dom_classes": [],
            "_model_module": "@jupyter-widgets/controls",
            "_model_module_version": "1.5.0",
            "_model_name": "HTMLModel",
            "_view_count": null,
            "_view_module": "@jupyter-widgets/controls",
            "_view_module_version": "1.5.0",
            "_view_name": "HTMLView",
            "description": "",
            "description_tooltip": null,
            "layout": "IPY_MODEL_fba53b6146d14d0bad21850d2c58a26d",
            "placeholder": "​",
            "style": "IPY_MODEL_717df11a6be64a3d9d61e4bffc99089c",
            "value": "100%"
          }
        },
        "86001bac08bd48b1a9f3753d9c4f4e59": {
          "model_module": "@jupyter-widgets/controls",
          "model_name": "FloatProgressModel",
          "model_module_version": "1.5.0",
          "state": {
            "_dom_classes": [],
            "_model_module": "@jupyter-widgets/controls",
            "_model_module_version": "1.5.0",
            "_model_name": "FloatProgressModel",
            "_view_count": null,
            "_view_module": "@jupyter-widgets/controls",
            "_view_module_version": "1.5.0",
            "_view_name": "ProgressView",
            "bar_style": "success",
            "description": "",
            "description_tooltip": null,
            "layout": "IPY_MODEL_431bd4a0f20e448aaa0dcd15226304a4",
            "max": 28881,
            "min": 0,
            "orientation": "horizontal",
            "style": "IPY_MODEL_fffec8e00b9648f4b960987e15d20cc6",
            "value": 28881
          }
        },
        "1a867c87d5a14e3c94932e9c2d5eab0f": {
          "model_module": "@jupyter-widgets/controls",
          "model_name": "HTMLModel",
          "model_module_version": "1.5.0",
          "state": {
            "_dom_classes": [],
            "_model_module": "@jupyter-widgets/controls",
            "_model_module_version": "1.5.0",
            "_model_name": "HTMLModel",
            "_view_count": null,
            "_view_module": "@jupyter-widgets/controls",
            "_view_module_version": "1.5.0",
            "_view_name": "HTMLView",
            "description": "",
            "description_tooltip": null,
            "layout": "IPY_MODEL_92cc2d51b6274748abc6cf0e07ac2275",
            "placeholder": "​",
            "style": "IPY_MODEL_fc479153f95e4925866948d7f4f85d29",
            "value": " 28881/28881 [00:00&lt;00:00, 865038.70it/s]"
          }
        },
        "c1ada7e100874ac5abb31e9e1d2a8d26": {
          "model_module": "@jupyter-widgets/base",
          "model_name": "LayoutModel",
          "model_module_version": "1.2.0",
          "state": {
            "_model_module": "@jupyter-widgets/base",
            "_model_module_version": "1.2.0",
            "_model_name": "LayoutModel",
            "_view_count": null,
            "_view_module": "@jupyter-widgets/base",
            "_view_module_version": "1.2.0",
            "_view_name": "LayoutView",
            "align_content": null,
            "align_items": null,
            "align_self": null,
            "border": null,
            "bottom": null,
            "display": null,
            "flex": null,
            "flex_flow": null,
            "grid_area": null,
            "grid_auto_columns": null,
            "grid_auto_flow": null,
            "grid_auto_rows": null,
            "grid_column": null,
            "grid_gap": null,
            "grid_row": null,
            "grid_template_areas": null,
            "grid_template_columns": null,
            "grid_template_rows": null,
            "height": null,
            "justify_content": null,
            "justify_items": null,
            "left": null,
            "margin": null,
            "max_height": null,
            "max_width": null,
            "min_height": null,
            "min_width": null,
            "object_fit": null,
            "object_position": null,
            "order": null,
            "overflow": null,
            "overflow_x": null,
            "overflow_y": null,
            "padding": null,
            "right": null,
            "top": null,
            "visibility": null,
            "width": null
          }
        },
        "fba53b6146d14d0bad21850d2c58a26d": {
          "model_module": "@jupyter-widgets/base",
          "model_name": "LayoutModel",
          "model_module_version": "1.2.0",
          "state": {
            "_model_module": "@jupyter-widgets/base",
            "_model_module_version": "1.2.0",
            "_model_name": "LayoutModel",
            "_view_count": null,
            "_view_module": "@jupyter-widgets/base",
            "_view_module_version": "1.2.0",
            "_view_name": "LayoutView",
            "align_content": null,
            "align_items": null,
            "align_self": null,
            "border": null,
            "bottom": null,
            "display": null,
            "flex": null,
            "flex_flow": null,
            "grid_area": null,
            "grid_auto_columns": null,
            "grid_auto_flow": null,
            "grid_auto_rows": null,
            "grid_column": null,
            "grid_gap": null,
            "grid_row": null,
            "grid_template_areas": null,
            "grid_template_columns": null,
            "grid_template_rows": null,
            "height": null,
            "justify_content": null,
            "justify_items": null,
            "left": null,
            "margin": null,
            "max_height": null,
            "max_width": null,
            "min_height": null,
            "min_width": null,
            "object_fit": null,
            "object_position": null,
            "order": null,
            "overflow": null,
            "overflow_x": null,
            "overflow_y": null,
            "padding": null,
            "right": null,
            "top": null,
            "visibility": null,
            "width": null
          }
        },
        "717df11a6be64a3d9d61e4bffc99089c": {
          "model_module": "@jupyter-widgets/controls",
          "model_name": "DescriptionStyleModel",
          "model_module_version": "1.5.0",
          "state": {
            "_model_module": "@jupyter-widgets/controls",
            "_model_module_version": "1.5.0",
            "_model_name": "DescriptionStyleModel",
            "_view_count": null,
            "_view_module": "@jupyter-widgets/base",
            "_view_module_version": "1.2.0",
            "_view_name": "StyleView",
            "description_width": ""
          }
        },
        "431bd4a0f20e448aaa0dcd15226304a4": {
          "model_module": "@jupyter-widgets/base",
          "model_name": "LayoutModel",
          "model_module_version": "1.2.0",
          "state": {
            "_model_module": "@jupyter-widgets/base",
            "_model_module_version": "1.2.0",
            "_model_name": "LayoutModel",
            "_view_count": null,
            "_view_module": "@jupyter-widgets/base",
            "_view_module_version": "1.2.0",
            "_view_name": "LayoutView",
            "align_content": null,
            "align_items": null,
            "align_self": null,
            "border": null,
            "bottom": null,
            "display": null,
            "flex": null,
            "flex_flow": null,
            "grid_area": null,
            "grid_auto_columns": null,
            "grid_auto_flow": null,
            "grid_auto_rows": null,
            "grid_column": null,
            "grid_gap": null,
            "grid_row": null,
            "grid_template_areas": null,
            "grid_template_columns": null,
            "grid_template_rows": null,
            "height": null,
            "justify_content": null,
            "justify_items": null,
            "left": null,
            "margin": null,
            "max_height": null,
            "max_width": null,
            "min_height": null,
            "min_width": null,
            "object_fit": null,
            "object_position": null,
            "order": null,
            "overflow": null,
            "overflow_x": null,
            "overflow_y": null,
            "padding": null,
            "right": null,
            "top": null,
            "visibility": null,
            "width": null
          }
        },
        "fffec8e00b9648f4b960987e15d20cc6": {
          "model_module": "@jupyter-widgets/controls",
          "model_name": "ProgressStyleModel",
          "model_module_version": "1.5.0",
          "state": {
            "_model_module": "@jupyter-widgets/controls",
            "_model_module_version": "1.5.0",
            "_model_name": "ProgressStyleModel",
            "_view_count": null,
            "_view_module": "@jupyter-widgets/base",
            "_view_module_version": "1.2.0",
            "_view_name": "StyleView",
            "bar_color": null,
            "description_width": ""
          }
        },
        "92cc2d51b6274748abc6cf0e07ac2275": {
          "model_module": "@jupyter-widgets/base",
          "model_name": "LayoutModel",
          "model_module_version": "1.2.0",
          "state": {
            "_model_module": "@jupyter-widgets/base",
            "_model_module_version": "1.2.0",
            "_model_name": "LayoutModel",
            "_view_count": null,
            "_view_module": "@jupyter-widgets/base",
            "_view_module_version": "1.2.0",
            "_view_name": "LayoutView",
            "align_content": null,
            "align_items": null,
            "align_self": null,
            "border": null,
            "bottom": null,
            "display": null,
            "flex": null,
            "flex_flow": null,
            "grid_area": null,
            "grid_auto_columns": null,
            "grid_auto_flow": null,
            "grid_auto_rows": null,
            "grid_column": null,
            "grid_gap": null,
            "grid_row": null,
            "grid_template_areas": null,
            "grid_template_columns": null,
            "grid_template_rows": null,
            "height": null,
            "justify_content": null,
            "justify_items": null,
            "left": null,
            "margin": null,
            "max_height": null,
            "max_width": null,
            "min_height": null,
            "min_width": null,
            "object_fit": null,
            "object_position": null,
            "order": null,
            "overflow": null,
            "overflow_x": null,
            "overflow_y": null,
            "padding": null,
            "right": null,
            "top": null,
            "visibility": null,
            "width": null
          }
        },
        "fc479153f95e4925866948d7f4f85d29": {
          "model_module": "@jupyter-widgets/controls",
          "model_name": "DescriptionStyleModel",
          "model_module_version": "1.5.0",
          "state": {
            "_model_module": "@jupyter-widgets/controls",
            "_model_module_version": "1.5.0",
            "_model_name": "DescriptionStyleModel",
            "_view_count": null,
            "_view_module": "@jupyter-widgets/base",
            "_view_module_version": "1.2.0",
            "_view_name": "StyleView",
            "description_width": ""
          }
        },
        "865218d8794c43d9b857393fbfc34bb7": {
          "model_module": "@jupyter-widgets/controls",
          "model_name": "HBoxModel",
          "model_module_version": "1.5.0",
          "state": {
            "_dom_classes": [],
            "_model_module": "@jupyter-widgets/controls",
            "_model_module_version": "1.5.0",
            "_model_name": "HBoxModel",
            "_view_count": null,
            "_view_module": "@jupyter-widgets/controls",
            "_view_module_version": "1.5.0",
            "_view_name": "HBoxView",
            "box_style": "",
            "children": [
              "IPY_MODEL_64db69efd9fa4961b46262cf7320ae0c",
              "IPY_MODEL_9c3e06b1b1164579bff797a563113ebc",
              "IPY_MODEL_8586c464099a48e5aa1c44bd07980544"
            ],
            "layout": "IPY_MODEL_023301c2cf464333b245b17cb063e71b"
          }
        },
        "64db69efd9fa4961b46262cf7320ae0c": {
          "model_module": "@jupyter-widgets/controls",
          "model_name": "HTMLModel",
          "model_module_version": "1.5.0",
          "state": {
            "_dom_classes": [],
            "_model_module": "@jupyter-widgets/controls",
            "_model_module_version": "1.5.0",
            "_model_name": "HTMLModel",
            "_view_count": null,
            "_view_module": "@jupyter-widgets/controls",
            "_view_module_version": "1.5.0",
            "_view_name": "HTMLView",
            "description": "",
            "description_tooltip": null,
            "layout": "IPY_MODEL_ebef538730c14c298f8ca292c269b118",
            "placeholder": "​",
            "style": "IPY_MODEL_83cdecfd69f14b868ba15d9da4bb3f4b",
            "value": "100%"
          }
        },
        "9c3e06b1b1164579bff797a563113ebc": {
          "model_module": "@jupyter-widgets/controls",
          "model_name": "FloatProgressModel",
          "model_module_version": "1.5.0",
          "state": {
            "_dom_classes": [],
            "_model_module": "@jupyter-widgets/controls",
            "_model_module_version": "1.5.0",
            "_model_name": "FloatProgressModel",
            "_view_count": null,
            "_view_module": "@jupyter-widgets/controls",
            "_view_module_version": "1.5.0",
            "_view_name": "ProgressView",
            "bar_style": "success",
            "description": "",
            "description_tooltip": null,
            "layout": "IPY_MODEL_fa67974615374759b20eb766cf566625",
            "max": 1648877,
            "min": 0,
            "orientation": "horizontal",
            "style": "IPY_MODEL_2a913dd57639448d88f1d3d1f65e505d",
            "value": 1648877
          }
        },
        "8586c464099a48e5aa1c44bd07980544": {
          "model_module": "@jupyter-widgets/controls",
          "model_name": "HTMLModel",
          "model_module_version": "1.5.0",
          "state": {
            "_dom_classes": [],
            "_model_module": "@jupyter-widgets/controls",
            "_model_module_version": "1.5.0",
            "_model_name": "HTMLModel",
            "_view_count": null,
            "_view_module": "@jupyter-widgets/controls",
            "_view_module_version": "1.5.0",
            "_view_name": "HTMLView",
            "description": "",
            "description_tooltip": null,
            "layout": "IPY_MODEL_857c39e82f5f43988c3fb18259acf4fa",
            "placeholder": "​",
            "style": "IPY_MODEL_56bb68f266ea448fb044302b16991626",
            "value": " 1648877/1648877 [00:00&lt;00:00, 18522294.58it/s]"
          }
        },
        "023301c2cf464333b245b17cb063e71b": {
          "model_module": "@jupyter-widgets/base",
          "model_name": "LayoutModel",
          "model_module_version": "1.2.0",
          "state": {
            "_model_module": "@jupyter-widgets/base",
            "_model_module_version": "1.2.0",
            "_model_name": "LayoutModel",
            "_view_count": null,
            "_view_module": "@jupyter-widgets/base",
            "_view_module_version": "1.2.0",
            "_view_name": "LayoutView",
            "align_content": null,
            "align_items": null,
            "align_self": null,
            "border": null,
            "bottom": null,
            "display": null,
            "flex": null,
            "flex_flow": null,
            "grid_area": null,
            "grid_auto_columns": null,
            "grid_auto_flow": null,
            "grid_auto_rows": null,
            "grid_column": null,
            "grid_gap": null,
            "grid_row": null,
            "grid_template_areas": null,
            "grid_template_columns": null,
            "grid_template_rows": null,
            "height": null,
            "justify_content": null,
            "justify_items": null,
            "left": null,
            "margin": null,
            "max_height": null,
            "max_width": null,
            "min_height": null,
            "min_width": null,
            "object_fit": null,
            "object_position": null,
            "order": null,
            "overflow": null,
            "overflow_x": null,
            "overflow_y": null,
            "padding": null,
            "right": null,
            "top": null,
            "visibility": null,
            "width": null
          }
        },
        "ebef538730c14c298f8ca292c269b118": {
          "model_module": "@jupyter-widgets/base",
          "model_name": "LayoutModel",
          "model_module_version": "1.2.0",
          "state": {
            "_model_module": "@jupyter-widgets/base",
            "_model_module_version": "1.2.0",
            "_model_name": "LayoutModel",
            "_view_count": null,
            "_view_module": "@jupyter-widgets/base",
            "_view_module_version": "1.2.0",
            "_view_name": "LayoutView",
            "align_content": null,
            "align_items": null,
            "align_self": null,
            "border": null,
            "bottom": null,
            "display": null,
            "flex": null,
            "flex_flow": null,
            "grid_area": null,
            "grid_auto_columns": null,
            "grid_auto_flow": null,
            "grid_auto_rows": null,
            "grid_column": null,
            "grid_gap": null,
            "grid_row": null,
            "grid_template_areas": null,
            "grid_template_columns": null,
            "grid_template_rows": null,
            "height": null,
            "justify_content": null,
            "justify_items": null,
            "left": null,
            "margin": null,
            "max_height": null,
            "max_width": null,
            "min_height": null,
            "min_width": null,
            "object_fit": null,
            "object_position": null,
            "order": null,
            "overflow": null,
            "overflow_x": null,
            "overflow_y": null,
            "padding": null,
            "right": null,
            "top": null,
            "visibility": null,
            "width": null
          }
        },
        "83cdecfd69f14b868ba15d9da4bb3f4b": {
          "model_module": "@jupyter-widgets/controls",
          "model_name": "DescriptionStyleModel",
          "model_module_version": "1.5.0",
          "state": {
            "_model_module": "@jupyter-widgets/controls",
            "_model_module_version": "1.5.0",
            "_model_name": "DescriptionStyleModel",
            "_view_count": null,
            "_view_module": "@jupyter-widgets/base",
            "_view_module_version": "1.2.0",
            "_view_name": "StyleView",
            "description_width": ""
          }
        },
        "fa67974615374759b20eb766cf566625": {
          "model_module": "@jupyter-widgets/base",
          "model_name": "LayoutModel",
          "model_module_version": "1.2.0",
          "state": {
            "_model_module": "@jupyter-widgets/base",
            "_model_module_version": "1.2.0",
            "_model_name": "LayoutModel",
            "_view_count": null,
            "_view_module": "@jupyter-widgets/base",
            "_view_module_version": "1.2.0",
            "_view_name": "LayoutView",
            "align_content": null,
            "align_items": null,
            "align_self": null,
            "border": null,
            "bottom": null,
            "display": null,
            "flex": null,
            "flex_flow": null,
            "grid_area": null,
            "grid_auto_columns": null,
            "grid_auto_flow": null,
            "grid_auto_rows": null,
            "grid_column": null,
            "grid_gap": null,
            "grid_row": null,
            "grid_template_areas": null,
            "grid_template_columns": null,
            "grid_template_rows": null,
            "height": null,
            "justify_content": null,
            "justify_items": null,
            "left": null,
            "margin": null,
            "max_height": null,
            "max_width": null,
            "min_height": null,
            "min_width": null,
            "object_fit": null,
            "object_position": null,
            "order": null,
            "overflow": null,
            "overflow_x": null,
            "overflow_y": null,
            "padding": null,
            "right": null,
            "top": null,
            "visibility": null,
            "width": null
          }
        },
        "2a913dd57639448d88f1d3d1f65e505d": {
          "model_module": "@jupyter-widgets/controls",
          "model_name": "ProgressStyleModel",
          "model_module_version": "1.5.0",
          "state": {
            "_model_module": "@jupyter-widgets/controls",
            "_model_module_version": "1.5.0",
            "_model_name": "ProgressStyleModel",
            "_view_count": null,
            "_view_module": "@jupyter-widgets/base",
            "_view_module_version": "1.2.0",
            "_view_name": "StyleView",
            "bar_color": null,
            "description_width": ""
          }
        },
        "857c39e82f5f43988c3fb18259acf4fa": {
          "model_module": "@jupyter-widgets/base",
          "model_name": "LayoutModel",
          "model_module_version": "1.2.0",
          "state": {
            "_model_module": "@jupyter-widgets/base",
            "_model_module_version": "1.2.0",
            "_model_name": "LayoutModel",
            "_view_count": null,
            "_view_module": "@jupyter-widgets/base",
            "_view_module_version": "1.2.0",
            "_view_name": "LayoutView",
            "align_content": null,
            "align_items": null,
            "align_self": null,
            "border": null,
            "bottom": null,
            "display": null,
            "flex": null,
            "flex_flow": null,
            "grid_area": null,
            "grid_auto_columns": null,
            "grid_auto_flow": null,
            "grid_auto_rows": null,
            "grid_column": null,
            "grid_gap": null,
            "grid_row": null,
            "grid_template_areas": null,
            "grid_template_columns": null,
            "grid_template_rows": null,
            "height": null,
            "justify_content": null,
            "justify_items": null,
            "left": null,
            "margin": null,
            "max_height": null,
            "max_width": null,
            "min_height": null,
            "min_width": null,
            "object_fit": null,
            "object_position": null,
            "order": null,
            "overflow": null,
            "overflow_x": null,
            "overflow_y": null,
            "padding": null,
            "right": null,
            "top": null,
            "visibility": null,
            "width": null
          }
        },
        "56bb68f266ea448fb044302b16991626": {
          "model_module": "@jupyter-widgets/controls",
          "model_name": "DescriptionStyleModel",
          "model_module_version": "1.5.0",
          "state": {
            "_model_module": "@jupyter-widgets/controls",
            "_model_module_version": "1.5.0",
            "_model_name": "DescriptionStyleModel",
            "_view_count": null,
            "_view_module": "@jupyter-widgets/base",
            "_view_module_version": "1.2.0",
            "_view_name": "StyleView",
            "description_width": ""
          }
        },
        "5320b696f7d944fb8aa0afb51ed45510": {
          "model_module": "@jupyter-widgets/controls",
          "model_name": "HBoxModel",
          "model_module_version": "1.5.0",
          "state": {
            "_dom_classes": [],
            "_model_module": "@jupyter-widgets/controls",
            "_model_module_version": "1.5.0",
            "_model_name": "HBoxModel",
            "_view_count": null,
            "_view_module": "@jupyter-widgets/controls",
            "_view_module_version": "1.5.0",
            "_view_name": "HBoxView",
            "box_style": "",
            "children": [
              "IPY_MODEL_2b60c1153598473ea0b23795c6f6f8af",
              "IPY_MODEL_8f446cb0969947c2b7a729d87b2ad39f",
              "IPY_MODEL_3e897020ae4a4bbda467bdacb0744cd1"
            ],
            "layout": "IPY_MODEL_83ba5c9e379d4abea996443da4122dc2"
          }
        },
        "2b60c1153598473ea0b23795c6f6f8af": {
          "model_module": "@jupyter-widgets/controls",
          "model_name": "HTMLModel",
          "model_module_version": "1.5.0",
          "state": {
            "_dom_classes": [],
            "_model_module": "@jupyter-widgets/controls",
            "_model_module_version": "1.5.0",
            "_model_name": "HTMLModel",
            "_view_count": null,
            "_view_module": "@jupyter-widgets/controls",
            "_view_module_version": "1.5.0",
            "_view_name": "HTMLView",
            "description": "",
            "description_tooltip": null,
            "layout": "IPY_MODEL_00e74bad98584664b41dcd2448bba8d1",
            "placeholder": "​",
            "style": "IPY_MODEL_6f915577be3b4ac7a69f3734201fe6d1",
            "value": "100%"
          }
        },
        "8f446cb0969947c2b7a729d87b2ad39f": {
          "model_module": "@jupyter-widgets/controls",
          "model_name": "FloatProgressModel",
          "model_module_version": "1.5.0",
          "state": {
            "_dom_classes": [],
            "_model_module": "@jupyter-widgets/controls",
            "_model_module_version": "1.5.0",
            "_model_name": "FloatProgressModel",
            "_view_count": null,
            "_view_module": "@jupyter-widgets/controls",
            "_view_module_version": "1.5.0",
            "_view_name": "ProgressView",
            "bar_style": "success",
            "description": "",
            "description_tooltip": null,
            "layout": "IPY_MODEL_8158febfb39d4ddf8fdee94d51c58b96",
            "max": 4542,
            "min": 0,
            "orientation": "horizontal",
            "style": "IPY_MODEL_6bdcd480f9c2482583785a52f0a83d24",
            "value": 4542
          }
        },
        "3e897020ae4a4bbda467bdacb0744cd1": {
          "model_module": "@jupyter-widgets/controls",
          "model_name": "HTMLModel",
          "model_module_version": "1.5.0",
          "state": {
            "_dom_classes": [],
            "_model_module": "@jupyter-widgets/controls",
            "_model_module_version": "1.5.0",
            "_model_name": "HTMLModel",
            "_view_count": null,
            "_view_module": "@jupyter-widgets/controls",
            "_view_module_version": "1.5.0",
            "_view_name": "HTMLView",
            "description": "",
            "description_tooltip": null,
            "layout": "IPY_MODEL_5cf01dda67974e82b5b9a5c04d970c7b",
            "placeholder": "​",
            "style": "IPY_MODEL_190c66a2924a4f6ca2e87a421b1c33ba",
            "value": " 4542/4542 [00:00&lt;00:00, 106028.30it/s]"
          }
        },
        "83ba5c9e379d4abea996443da4122dc2": {
          "model_module": "@jupyter-widgets/base",
          "model_name": "LayoutModel",
          "model_module_version": "1.2.0",
          "state": {
            "_model_module": "@jupyter-widgets/base",
            "_model_module_version": "1.2.0",
            "_model_name": "LayoutModel",
            "_view_count": null,
            "_view_module": "@jupyter-widgets/base",
            "_view_module_version": "1.2.0",
            "_view_name": "LayoutView",
            "align_content": null,
            "align_items": null,
            "align_self": null,
            "border": null,
            "bottom": null,
            "display": null,
            "flex": null,
            "flex_flow": null,
            "grid_area": null,
            "grid_auto_columns": null,
            "grid_auto_flow": null,
            "grid_auto_rows": null,
            "grid_column": null,
            "grid_gap": null,
            "grid_row": null,
            "grid_template_areas": null,
            "grid_template_columns": null,
            "grid_template_rows": null,
            "height": null,
            "justify_content": null,
            "justify_items": null,
            "left": null,
            "margin": null,
            "max_height": null,
            "max_width": null,
            "min_height": null,
            "min_width": null,
            "object_fit": null,
            "object_position": null,
            "order": null,
            "overflow": null,
            "overflow_x": null,
            "overflow_y": null,
            "padding": null,
            "right": null,
            "top": null,
            "visibility": null,
            "width": null
          }
        },
        "00e74bad98584664b41dcd2448bba8d1": {
          "model_module": "@jupyter-widgets/base",
          "model_name": "LayoutModel",
          "model_module_version": "1.2.0",
          "state": {
            "_model_module": "@jupyter-widgets/base",
            "_model_module_version": "1.2.0",
            "_model_name": "LayoutModel",
            "_view_count": null,
            "_view_module": "@jupyter-widgets/base",
            "_view_module_version": "1.2.0",
            "_view_name": "LayoutView",
            "align_content": null,
            "align_items": null,
            "align_self": null,
            "border": null,
            "bottom": null,
            "display": null,
            "flex": null,
            "flex_flow": null,
            "grid_area": null,
            "grid_auto_columns": null,
            "grid_auto_flow": null,
            "grid_auto_rows": null,
            "grid_column": null,
            "grid_gap": null,
            "grid_row": null,
            "grid_template_areas": null,
            "grid_template_columns": null,
            "grid_template_rows": null,
            "height": null,
            "justify_content": null,
            "justify_items": null,
            "left": null,
            "margin": null,
            "max_height": null,
            "max_width": null,
            "min_height": null,
            "min_width": null,
            "object_fit": null,
            "object_position": null,
            "order": null,
            "overflow": null,
            "overflow_x": null,
            "overflow_y": null,
            "padding": null,
            "right": null,
            "top": null,
            "visibility": null,
            "width": null
          }
        },
        "6f915577be3b4ac7a69f3734201fe6d1": {
          "model_module": "@jupyter-widgets/controls",
          "model_name": "DescriptionStyleModel",
          "model_module_version": "1.5.0",
          "state": {
            "_model_module": "@jupyter-widgets/controls",
            "_model_module_version": "1.5.0",
            "_model_name": "DescriptionStyleModel",
            "_view_count": null,
            "_view_module": "@jupyter-widgets/base",
            "_view_module_version": "1.2.0",
            "_view_name": "StyleView",
            "description_width": ""
          }
        },
        "8158febfb39d4ddf8fdee94d51c58b96": {
          "model_module": "@jupyter-widgets/base",
          "model_name": "LayoutModel",
          "model_module_version": "1.2.0",
          "state": {
            "_model_module": "@jupyter-widgets/base",
            "_model_module_version": "1.2.0",
            "_model_name": "LayoutModel",
            "_view_count": null,
            "_view_module": "@jupyter-widgets/base",
            "_view_module_version": "1.2.0",
            "_view_name": "LayoutView",
            "align_content": null,
            "align_items": null,
            "align_self": null,
            "border": null,
            "bottom": null,
            "display": null,
            "flex": null,
            "flex_flow": null,
            "grid_area": null,
            "grid_auto_columns": null,
            "grid_auto_flow": null,
            "grid_auto_rows": null,
            "grid_column": null,
            "grid_gap": null,
            "grid_row": null,
            "grid_template_areas": null,
            "grid_template_columns": null,
            "grid_template_rows": null,
            "height": null,
            "justify_content": null,
            "justify_items": null,
            "left": null,
            "margin": null,
            "max_height": null,
            "max_width": null,
            "min_height": null,
            "min_width": null,
            "object_fit": null,
            "object_position": null,
            "order": null,
            "overflow": null,
            "overflow_x": null,
            "overflow_y": null,
            "padding": null,
            "right": null,
            "top": null,
            "visibility": null,
            "width": null
          }
        },
        "6bdcd480f9c2482583785a52f0a83d24": {
          "model_module": "@jupyter-widgets/controls",
          "model_name": "ProgressStyleModel",
          "model_module_version": "1.5.0",
          "state": {
            "_model_module": "@jupyter-widgets/controls",
            "_model_module_version": "1.5.0",
            "_model_name": "ProgressStyleModel",
            "_view_count": null,
            "_view_module": "@jupyter-widgets/base",
            "_view_module_version": "1.2.0",
            "_view_name": "StyleView",
            "bar_color": null,
            "description_width": ""
          }
        },
        "5cf01dda67974e82b5b9a5c04d970c7b": {
          "model_module": "@jupyter-widgets/base",
          "model_name": "LayoutModel",
          "model_module_version": "1.2.0",
          "state": {
            "_model_module": "@jupyter-widgets/base",
            "_model_module_version": "1.2.0",
            "_model_name": "LayoutModel",
            "_view_count": null,
            "_view_module": "@jupyter-widgets/base",
            "_view_module_version": "1.2.0",
            "_view_name": "LayoutView",
            "align_content": null,
            "align_items": null,
            "align_self": null,
            "border": null,
            "bottom": null,
            "display": null,
            "flex": null,
            "flex_flow": null,
            "grid_area": null,
            "grid_auto_columns": null,
            "grid_auto_flow": null,
            "grid_auto_rows": null,
            "grid_column": null,
            "grid_gap": null,
            "grid_row": null,
            "grid_template_areas": null,
            "grid_template_columns": null,
            "grid_template_rows": null,
            "height": null,
            "justify_content": null,
            "justify_items": null,
            "left": null,
            "margin": null,
            "max_height": null,
            "max_width": null,
            "min_height": null,
            "min_width": null,
            "object_fit": null,
            "object_position": null,
            "order": null,
            "overflow": null,
            "overflow_x": null,
            "overflow_y": null,
            "padding": null,
            "right": null,
            "top": null,
            "visibility": null,
            "width": null
          }
        },
        "190c66a2924a4f6ca2e87a421b1c33ba": {
          "model_module": "@jupyter-widgets/controls",
          "model_name": "DescriptionStyleModel",
          "model_module_version": "1.5.0",
          "state": {
            "_model_module": "@jupyter-widgets/controls",
            "_model_module_version": "1.5.0",
            "_model_name": "DescriptionStyleModel",
            "_view_count": null,
            "_view_module": "@jupyter-widgets/base",
            "_view_module_version": "1.2.0",
            "_view_name": "StyleView",
            "description_width": ""
          }
        }
      }
    }
  },
  "cells": [
    {
      "cell_type": "markdown",
      "metadata": {
        "id": "fyPUlbCoHjLv"
      },
      "source": [
        "# Classification multi-classe avec un modèle linéaire\n",
        "\n",
        "Dans ce notebook, nous allons voir les bases de PyTorch en considérant un exemple de problème de classification linéaire multi-classe.\n",
        "\n",
        "Nous allons :\n",
        "- Présenter le jeu de données MNIST, qui contient des images de 28x28 pixels de chiffres écrits à la main.\n",
        "- Introduire l'utilisation de PyTorch pour construire et entraîner des modèles.\n",
        "- Explorer l'effet de certains paramètres sur notre modèle :\n",
        "    - Taille de l'ensemble de données\n",
        "    - Taille des mini-batchs (\"mini-lots\")\n",
        "    - Régularisation\n"
      ]
    },
    {
      "cell_type": "markdown",
      "metadata": {
        "id": "k0m7BGCcHjL0"
      },
      "source": [
        "## MNIST\n",
        "\n",
        "Le jeu de données MNIST contient des chiffres manuscrits (numériques) en noir et blanc, d'une taille de 28x28 pixels. Ce jeu de données est généralement utilisé pour les démonstrations de modèles d'apprentissage automatique.\n",
        "\n",
        "Nous allons télécharger le jeu de données. Pour simplifier, nous n'utiliserons que les 2500 premières images de la base de données MNIST.\n",
        "La première fois que vous exécuterez ce code, l'ensemble de données MNIST sera téléchargé.\n"
      ]
    },
    {
      "cell_type": "code",
      "metadata": {
        "colab": {
          "base_uri": "https://localhost:8080/",
          "height": 440,
          "referenced_widgets": [
            "2c6f7ef8669c4a80aab57cdb2a92dddd",
            "3970dbaa84404099b4cfab7672989df1",
            "9d8953a1ec4543e3a9229ebca8153783",
            "f9cd2d442a9546de863c5bffe323207f",
            "145a9680f5c3463eb0f899f55818042c",
            "df411a82b2274e51942b6a32048a004c",
            "42081585306749c8a3cd55c769b35684",
            "804c2f54060242f88582ad64968ab209",
            "37d269f8993048e7a630be83d7f0fccd",
            "f6c6e88d9ac74ef1a7f93b70d3f8ce1b",
            "0d55eb5c71274ae8b380e314285e24ed",
            "ca6d57976dfe42db93e4e0cac04ab77d",
            "5e7f0c7e56b24afab03b3a1fa39e0860",
            "86001bac08bd48b1a9f3753d9c4f4e59",
            "1a867c87d5a14e3c94932e9c2d5eab0f",
            "c1ada7e100874ac5abb31e9e1d2a8d26",
            "fba53b6146d14d0bad21850d2c58a26d",
            "717df11a6be64a3d9d61e4bffc99089c",
            "431bd4a0f20e448aaa0dcd15226304a4",
            "fffec8e00b9648f4b960987e15d20cc6",
            "92cc2d51b6274748abc6cf0e07ac2275",
            "fc479153f95e4925866948d7f4f85d29",
            "865218d8794c43d9b857393fbfc34bb7",
            "64db69efd9fa4961b46262cf7320ae0c",
            "9c3e06b1b1164579bff797a563113ebc",
            "8586c464099a48e5aa1c44bd07980544",
            "023301c2cf464333b245b17cb063e71b",
            "ebef538730c14c298f8ca292c269b118",
            "83cdecfd69f14b868ba15d9da4bb3f4b",
            "fa67974615374759b20eb766cf566625",
            "2a913dd57639448d88f1d3d1f65e505d",
            "857c39e82f5f43988c3fb18259acf4fa",
            "56bb68f266ea448fb044302b16991626",
            "5320b696f7d944fb8aa0afb51ed45510",
            "2b60c1153598473ea0b23795c6f6f8af",
            "8f446cb0969947c2b7a729d87b2ad39f",
            "3e897020ae4a4bbda467bdacb0744cd1",
            "83ba5c9e379d4abea996443da4122dc2",
            "00e74bad98584664b41dcd2448bba8d1",
            "6f915577be3b4ac7a69f3734201fe6d1",
            "8158febfb39d4ddf8fdee94d51c58b96",
            "6bdcd480f9c2482583785a52f0a83d24",
            "5cf01dda67974e82b5b9a5c04d970c7b",
            "190c66a2924a4f6ca2e87a421b1c33ba"
          ]
        },
        "id": "WuErs5MRHjL1",
        "outputId": "94031608-e209-49a7-d55f-cb04a740733c"
      },
      "source": [
        "from torchvision import datasets\n",
        "\n",
        "# charger le subset train\n",
        "mnist_train = datasets.MNIST('data', train=True, download=True)\n",
        "mnist_train = list(mnist_train)[:2500]\n",
        "\n",
        "print(mnist_train[0])"
      ],
      "execution_count": 1,
      "outputs": [
        {
          "output_type": "stream",
          "name": "stdout",
          "text": [
            "Downloading http://yann.lecun.com/exdb/mnist/train-images-idx3-ubyte.gz\n",
            "Downloading http://yann.lecun.com/exdb/mnist/train-images-idx3-ubyte.gz to data/MNIST/raw/train-images-idx3-ubyte.gz\n"
          ]
        },
        {
          "output_type": "display_data",
          "data": {
            "text/plain": [
              "  0%|          | 0/9912422 [00:00<?, ?it/s]"
            ],
            "application/vnd.jupyter.widget-view+json": {
              "version_major": 2,
              "version_minor": 0,
              "model_id": "2c6f7ef8669c4a80aab57cdb2a92dddd"
            }
          },
          "metadata": {}
        },
        {
          "output_type": "stream",
          "name": "stdout",
          "text": [
            "Extracting data/MNIST/raw/train-images-idx3-ubyte.gz to data/MNIST/raw\n",
            "\n",
            "Downloading http://yann.lecun.com/exdb/mnist/train-labels-idx1-ubyte.gz\n",
            "Downloading http://yann.lecun.com/exdb/mnist/train-labels-idx1-ubyte.gz to data/MNIST/raw/train-labels-idx1-ubyte.gz\n"
          ]
        },
        {
          "output_type": "display_data",
          "data": {
            "text/plain": [
              "  0%|          | 0/28881 [00:00<?, ?it/s]"
            ],
            "application/vnd.jupyter.widget-view+json": {
              "version_major": 2,
              "version_minor": 0,
              "model_id": "ca6d57976dfe42db93e4e0cac04ab77d"
            }
          },
          "metadata": {}
        },
        {
          "output_type": "stream",
          "name": "stdout",
          "text": [
            "Extracting data/MNIST/raw/train-labels-idx1-ubyte.gz to data/MNIST/raw\n",
            "\n",
            "Downloading http://yann.lecun.com/exdb/mnist/t10k-images-idx3-ubyte.gz\n",
            "Downloading http://yann.lecun.com/exdb/mnist/t10k-images-idx3-ubyte.gz to data/MNIST/raw/t10k-images-idx3-ubyte.gz\n"
          ]
        },
        {
          "output_type": "display_data",
          "data": {
            "text/plain": [
              "  0%|          | 0/1648877 [00:00<?, ?it/s]"
            ],
            "application/vnd.jupyter.widget-view+json": {
              "version_major": 2,
              "version_minor": 0,
              "model_id": "865218d8794c43d9b857393fbfc34bb7"
            }
          },
          "metadata": {}
        },
        {
          "output_type": "stream",
          "name": "stdout",
          "text": [
            "Extracting data/MNIST/raw/t10k-images-idx3-ubyte.gz to data/MNIST/raw\n",
            "\n",
            "Downloading http://yann.lecun.com/exdb/mnist/t10k-labels-idx1-ubyte.gz\n",
            "Downloading http://yann.lecun.com/exdb/mnist/t10k-labels-idx1-ubyte.gz to data/MNIST/raw/t10k-labels-idx1-ubyte.gz\n"
          ]
        },
        {
          "output_type": "display_data",
          "data": {
            "text/plain": [
              "  0%|          | 0/4542 [00:00<?, ?it/s]"
            ],
            "application/vnd.jupyter.widget-view+json": {
              "version_major": 2,
              "version_minor": 0,
              "model_id": "5320b696f7d944fb8aa0afb51ed45510"
            }
          },
          "metadata": {}
        },
        {
          "output_type": "stream",
          "name": "stdout",
          "text": [
            "Extracting data/MNIST/raw/t10k-labels-idx1-ubyte.gz to data/MNIST/raw\n",
            "\n",
            "(<PIL.Image.Image image mode=L size=28x28 at 0x7F257BE2FE20>, 5)\n"
          ]
        }
      ]
    },
    {
      "cell_type": "markdown",
      "metadata": {
        "id": "FXdO_yaqHjL1"
      },
      "source": [
        "Regardons quelques images du dataset :"
      ]
    },
    {
      "cell_type": "code",
      "metadata": {
        "colab": {
          "base_uri": "https://localhost:8080/",
          "height": 252
        },
        "id": "yne-HTniHjL1",
        "outputId": "32596f88-7fb6-4980-b0c8-22f6abc16751"
      },
      "source": [
        "# plot des 18 premières images de train\n",
        "import matplotlib.pyplot as plt\n",
        "for k, (image, label) in enumerate(mnist_train[:18]):\n",
        "    plt.subplot(3, 6, k+1)\n",
        "    plt.imshow(image, cmap='gray')"
      ],
      "execution_count": 2,
      "outputs": [
        {
          "output_type": "display_data",
          "data": {
            "text/plain": [
              "<Figure size 432x288 with 18 Axes>"
            ],
            "image/png": "[encoded data removed]"
          },
          "metadata": {
            "needs_background": "light"
          }
        }
      ]
    },
    {
      "cell_type": "code",
      "metadata": {
        "colab": {
          "base_uri": "https://localhost:8080/"
        },
        "id": "Apsz07pXHjL2",
        "outputId": "2cc787f9-dc9e-4068-d30c-48b922617e63"
      },
      "source": [
        "from torchvision import transforms\n",
        "# transformer l'image en une matrice pytorch de taille 28x28 :\n",
        "img_to_tensor = transforms.ToTensor()\n",
        "\n",
        "img_tensor = img_to_tensor(image)\n",
        "img_tensor.shape"
      ],
      "execution_count": 3,
      "outputs": [
        {
          "output_type": "execute_result",
          "data": {
            "text/plain": [
              "torch.Size([1, 28, 28])"
            ]
          },
          "metadata": {},
          "execution_count": 3
        }
      ]
    },
    {
      "cell_type": "markdown",
      "metadata": {
        "id": "KYPAc1R9HjL2"
      },
      "source": [
        "Pour convertir l'ensemble des images en ces représentations tensorielles (par opposition aux objets PIL.Image), il existe un paramètre `transform` que nous pouvons utiliser lors du chargement de MNIST :"
      ]
    },
    {
      "cell_type": "code",
      "metadata": {
        "colab": {
          "base_uri": "https://localhost:8080/"
        },
        "id": "RUSSwH_YHjL2",
        "outputId": "4651ada9-2fbb-411f-ee2a-42faed20fb35"
      },
      "source": [
        "mnist_train = datasets.MNIST('data', train=True, transform=img_to_tensor)\n",
        "mnist_train = list(mnist_train)[:2500]\n",
        "print(mnist_train[0])"
      ],
      "execution_count": 4,
      "outputs": [
        {
          "output_type": "stream",
          "name": "stdout",
          "text": [
            "(tensor([[[0.0000, 0.0000, 0.0000, 0.0000, 0.0000, 0.0000, 0.0000, 0.0000,\n",
            "          0.0000, 0.0000, 0.0000, 0.0000, 0.0000, 0.0000, 0.0000, 0.0000,\n",
            "          0.0000, 0.0000, 0.0000, 0.0000, 0.0000, 0.0000, 0.0000, 0.0000,\n",
            "          0.0000, 0.0000, 0.0000, 0.0000],\n",
            "         [0.0000, 0.0000, 0.0000, 0.0000, 0.0000, 0.0000, 0.0000, 0.0000,\n",
            "          0.0000, 0.0000, 0.0000, 0.0000, 0.0000, 0.0000, 0.0000, 0.0000,\n",
            "          0.0000, 0.0000, 0.0000, 0.0000, 0.0000, 0.0000, 0.0000, 0.0000,\n",
            "          0.0000, 0.0000, 0.0000, 0.0000],\n",
            "         [0.0000, 0.0000, 0.0000, 0.0000, 0.0000, 0.0000, 0.0000, 0.0000,\n",
            "          0.0000, 0.0000, 0.0000, 0.0000, 0.0000, 0.0000, 0.0000, 0.0000,\n",
            "          0.0000, 0.0000, 0.0000, 0.0000, 0.0000, 0.0000, 0.0000, 0.0000,\n",
            "          0.0000, 0.0000, 0.0000, 0.0000],\n",
            "         [0.0000, 0.0000, 0.0000, 0.0000, 0.0000, 0.0000, 0.0000, 0.0000,\n",
            "          0.0000, 0.0000, 0.0000, 0.0000, 0.0000, 0.0000, 0.0000, 0.0000,\n",
            "          0.0000, 0.0000, 0.0000, 0.0000, 0.0000, 0.0000, 0.0000, 0.0000,\n",
            "          0.0000, 0.0000, 0.0000, 0.0000],\n",
            "         [0.0000, 0.0000, 0.0000, 0.0000, 0.0000, 0.0000, 0.0000, 0.0000,\n",
            "          0.0000, 0.0000, 0.0000, 0.0000, 0.0000, 0.0000, 0.0000, 0.0000,\n",
            "          0.0000, 0.0000, 0.0000, 0.0000, 0.0000, 0.0000, 0.0000, 0.0000,\n",
            "          0.0000, 0.0000, 0.0000, 0.0000],\n",
            "         [0.0000, 0.0000, 0.0000, 0.0000, 0.0000, 0.0000, 0.0000, 0.0000,\n",
            "          0.0000, 0.0000, 0.0000, 0.0000, 0.0118, 0.0706, 0.0706, 0.0706,\n",
            "          0.4941, 0.5333, 0.6863, 0.1020, 0.6510, 1.0000, 0.9686, 0.4980,\n",
            "          0.0000, 0.0000, 0.0000, 0.0000],\n",
            "         [0.0000, 0.0000, 0.0000, 0.0000, 0.0000, 0.0000, 0.0000, 0.0000,\n",
            "          0.1176, 0.1412, 0.3686, 0.6039, 0.6667, 0.9922, 0.9922, 0.9922,\n",
            "          0.9922, 0.9922, 0.8824, 0.6745, 0.9922, 0.9490, 0.7647, 0.2510,\n",
            "          0.0000, 0.0000, 0.0000, 0.0000],\n",
            "         [0.0000, 0.0000, 0.0000, 0.0000, 0.0000, 0.0000, 0.0000, 0.1922,\n",
            "          0.9333, 0.9922, 0.9922, 0.9922, 0.9922, 0.9922, 0.9922, 0.9922,\n",
            "          0.9922, 0.9843, 0.3647, 0.3216, 0.3216, 0.2196, 0.1529, 0.0000,\n",
            "          0.0000, 0.0000, 0.0000, 0.0000],\n",
            "         [0.0000, 0.0000, 0.0000, 0.0000, 0.0000, 0.0000, 0.0000, 0.0706,\n",
            "          0.8588, 0.9922, 0.9922, 0.9922, 0.9922, 0.9922, 0.7765, 0.7137,\n",
            "          0.9686, 0.9451, 0.0000, 0.0000, 0.0000, 0.0000, 0.0000, 0.0000,\n",
            "          0.0000, 0.0000, 0.0000, 0.0000],\n",
            "         [0.0000, 0.0000, 0.0000, 0.0000, 0.0000, 0.0000, 0.0000, 0.0000,\n",
            "          0.3137, 0.6118, 0.4196, 0.9922, 0.9922, 0.8039, 0.0431, 0.0000,\n",
            "          0.1686, 0.6039, 0.0000, 0.0000, 0.0000, 0.0000, 0.0000, 0.0000,\n",
            "          0.0000, 0.0000, 0.0000, 0.0000],\n",
            "         [0.0000, 0.0000, 0.0000, 0.0000, 0.0000, 0.0000, 0.0000, 0.0000,\n",
            "          0.0000, 0.0549, 0.0039, 0.6039, 0.9922, 0.3529, 0.0000, 0.0000,\n",
            "          0.0000, 0.0000, 0.0000, 0.0000, 0.0000, 0.0000, 0.0000, 0.0000,\n",
            "          0.0000, 0.0000, 0.0000, 0.0000],\n",
            "         [0.0000, 0.0000, 0.0000, 0.0000, 0.0000, 0.0000, 0.0000, 0.0000,\n",
            "          0.0000, 0.0000, 0.0000, 0.5451, 0.9922, 0.7451, 0.0078, 0.0000,\n",
            "          0.0000, 0.0000, 0.0000, 0.0000, 0.0000, 0.0000, 0.0000, 0.0000,\n",
            "          0.0000, 0.0000, 0.0000, 0.0000],\n",
            "         [0.0000, 0.0000, 0.0000, 0.0000, 0.0000, 0.0000, 0.0000, 0.0000,\n",
            "          0.0000, 0.0000, 0.0000, 0.0431, 0.7451, 0.9922, 0.2745, 0.0000,\n",
            "          0.0000, 0.0000, 0.0000, 0.0000, 0.0000, 0.0000, 0.0000, 0.0000,\n",
            "          0.0000, 0.0000, 0.0000, 0.0000],\n",
            "         [0.0000, 0.0000, 0.0000, 0.0000, 0.0000, 0.0000, 0.0000, 0.0000,\n",
            "          0.0000, 0.0000, 0.0000, 0.0000, 0.1373, 0.9451, 0.8824, 0.6275,\n",
            "          0.4235, 0.0039, 0.0000, 0.0000, 0.0000, 0.0000, 0.0000, 0.0000,\n",
            "          0.0000, 0.0000, 0.0000, 0.0000],\n",
            "         [0.0000, 0.0000, 0.0000, 0.0000, 0.0000, 0.0000, 0.0000, 0.0000,\n",
            "          0.0000, 0.0000, 0.0000, 0.0000, 0.0000, 0.3176, 0.9412, 0.9922,\n",
            "          0.9922, 0.4667, 0.0980, 0.0000, 0.0000, 0.0000, 0.0000, 0.0000,\n",
            "          0.0000, 0.0000, 0.0000, 0.0000],\n",
            "         [0.0000, 0.0000, 0.0000, 0.0000, 0.0000, 0.0000, 0.0000, 0.0000,\n",
            "          0.0000, 0.0000, 0.0000, 0.0000, 0.0000, 0.0000, 0.1765, 0.7294,\n",
            "          0.9922, 0.9922, 0.5882, 0.1059, 0.0000, 0.0000, 0.0000, 0.0000,\n",
            "          0.0000, 0.0000, 0.0000, 0.0000],\n",
            "         [0.0000, 0.0000, 0.0000, 0.0000, 0.0000, 0.0000, 0.0000, 0.0000,\n",
            "          0.0000, 0.0000, 0.0000, 0.0000, 0.0000, 0.0000, 0.0000, 0.0627,\n",
            "          0.3647, 0.9882, 0.9922, 0.7333, 0.0000, 0.0000, 0.0000, 0.0000,\n",
            "          0.0000, 0.0000, 0.0000, 0.0000],\n",
            "         [0.0000, 0.0000, 0.0000, 0.0000, 0.0000, 0.0000, 0.0000, 0.0000,\n",
            "          0.0000, 0.0000, 0.0000, 0.0000, 0.0000, 0.0000, 0.0000, 0.0000,\n",
            "          0.0000, 0.9765, 0.9922, 0.9765, 0.2510, 0.0000, 0.0000, 0.0000,\n",
            "          0.0000, 0.0000, 0.0000, 0.0000],\n",
            "         [0.0000, 0.0000, 0.0000, 0.0000, 0.0000, 0.0000, 0.0000, 0.0000,\n",
            "          0.0000, 0.0000, 0.0000, 0.0000, 0.0000, 0.0000, 0.1804, 0.5098,\n",
            "          0.7176, 0.9922, 0.9922, 0.8118, 0.0078, 0.0000, 0.0000, 0.0000,\n",
            "          0.0000, 0.0000, 0.0000, 0.0000],\n",
            "         [0.0000, 0.0000, 0.0000, 0.0000, 0.0000, 0.0000, 0.0000, 0.0000,\n",
            "          0.0000, 0.0000, 0.0000, 0.0000, 0.1529, 0.5804, 0.8980, 0.9922,\n",
            "          0.9922, 0.9922, 0.9804, 0.7137, 0.0000, 0.0000, 0.0000, 0.0000,\n",
            "          0.0000, 0.0000, 0.0000, 0.0000],\n",
            "         [0.0000, 0.0000, 0.0000, 0.0000, 0.0000, 0.0000, 0.0000, 0.0000,\n",
            "          0.0000, 0.0000, 0.0941, 0.4471, 0.8667, 0.9922, 0.9922, 0.9922,\n",
            "          0.9922, 0.7882, 0.3059, 0.0000, 0.0000, 0.0000, 0.0000, 0.0000,\n",
            "          0.0000, 0.0000, 0.0000, 0.0000],\n",
            "         [0.0000, 0.0000, 0.0000, 0.0000, 0.0000, 0.0000, 0.0000, 0.0000,\n",
            "          0.0902, 0.2588, 0.8353, 0.9922, 0.9922, 0.9922, 0.9922, 0.7765,\n",
            "          0.3176, 0.0078, 0.0000, 0.0000, 0.0000, 0.0000, 0.0000, 0.0000,\n",
            "          0.0000, 0.0000, 0.0000, 0.0000],\n",
            "         [0.0000, 0.0000, 0.0000, 0.0000, 0.0000, 0.0000, 0.0706, 0.6706,\n",
            "          0.8588, 0.9922, 0.9922, 0.9922, 0.9922, 0.7647, 0.3137, 0.0353,\n",
            "          0.0000, 0.0000, 0.0000, 0.0000, 0.0000, 0.0000, 0.0000, 0.0000,\n",
            "          0.0000, 0.0000, 0.0000, 0.0000],\n",
            "         [0.0000, 0.0000, 0.0000, 0.0000, 0.2157, 0.6745, 0.8863, 0.9922,\n",
            "          0.9922, 0.9922, 0.9922, 0.9569, 0.5216, 0.0431, 0.0000, 0.0000,\n",
            "          0.0000, 0.0000, 0.0000, 0.0000, 0.0000, 0.0000, 0.0000, 0.0000,\n",
            "          0.0000, 0.0000, 0.0000, 0.0000],\n",
            "         [0.0000, 0.0000, 0.0000, 0.0000, 0.5333, 0.9922, 0.9922, 0.9922,\n",
            "          0.8314, 0.5294, 0.5176, 0.0627, 0.0000, 0.0000, 0.0000, 0.0000,\n",
            "          0.0000, 0.0000, 0.0000, 0.0000, 0.0000, 0.0000, 0.0000, 0.0000,\n",
            "          0.0000, 0.0000, 0.0000, 0.0000],\n",
            "         [0.0000, 0.0000, 0.0000, 0.0000, 0.0000, 0.0000, 0.0000, 0.0000,\n",
            "          0.0000, 0.0000, 0.0000, 0.0000, 0.0000, 0.0000, 0.0000, 0.0000,\n",
            "          0.0000, 0.0000, 0.0000, 0.0000, 0.0000, 0.0000, 0.0000, 0.0000,\n",
            "          0.0000, 0.0000, 0.0000, 0.0000],\n",
            "         [0.0000, 0.0000, 0.0000, 0.0000, 0.0000, 0.0000, 0.0000, 0.0000,\n",
            "          0.0000, 0.0000, 0.0000, 0.0000, 0.0000, 0.0000, 0.0000, 0.0000,\n",
            "          0.0000, 0.0000, 0.0000, 0.0000, 0.0000, 0.0000, 0.0000, 0.0000,\n",
            "          0.0000, 0.0000, 0.0000, 0.0000],\n",
            "         [0.0000, 0.0000, 0.0000, 0.0000, 0.0000, 0.0000, 0.0000, 0.0000,\n",
            "          0.0000, 0.0000, 0.0000, 0.0000, 0.0000, 0.0000, 0.0000, 0.0000,\n",
            "          0.0000, 0.0000, 0.0000, 0.0000, 0.0000, 0.0000, 0.0000, 0.0000,\n",
            "          0.0000, 0.0000, 0.0000, 0.0000]]]), 5)\n"
          ]
        }
      ]
    },
    {
      "cell_type": "markdown",
      "metadata": {
        "id": "RXimk60zHjL3"
      },
      "source": [
        "Maintenant, nous allons diviser ces données en deux parties, train et val, et commencer à construire un modèle très simple.\n",
        "\n",
        "Nous n'aurons pas besoin d'un ensemble de test dans cet exemple, mais en général, il faudrait charger (ou créer s'il n'existe pas) un ensemble de test."
      ]
    },
    {
      "cell_type": "code",
      "metadata": {
        "id": "2cA_xM8sHjL3"
      },
      "source": [
        "mnist_train, mnist_val = mnist_train[:2000], mnist_train[2000:]"
      ],
      "execution_count": 5,
      "outputs": []
    },
    {
      "cell_type": "markdown",
      "metadata": {
        "id": "hgmvPU75HjL3"
      },
      "source": [
        "## Modèle linéaire en PyTorch\n",
        "\n",
        "Pour construire un modèle linéaire dans PyTorch, nous utilisons une instance de la classe `nn.Linear`, et en spécifiant le nombre de features d'entrée, et le nombre de features de sortie désiré. Pour la régression linéaire et la classification binaire, la dimension de sortie est 1. Pour la classification multi-classes, nous avons autant de sorties qu'il y a de classes.\n",
        "\n",
        "Lorsque nous utilisons ce modèle pour la classification, nous devons appliquer l'activation sigmoïde ou softmax *à la suite*."
      ]
    },
    {
      "cell_type": "code",
      "metadata": {
        "id": "uAvk1JVeHjL3"
      },
      "source": [
        "import torch\n",
        "import torch.nn as nn\n",
        "\n",
        "model_exemple = nn.Linear(50, 1) # 50 features en entrée, 1 seule sortie"
      ],
      "execution_count": 6,
      "outputs": []
    },
    {
      "cell_type": "markdown",
      "metadata": {
        "id": "rOAAGsRIHjL4"
      },
      "source": [
        "L'objet `model_exemple` contient les poids (weights) et les biais (biases, un seul ici) du modèle. Par défaut, PyTorch initialise leurs valeurs à un nombre aléatoire proche de 0 :"
      ]
    },
    {
      "cell_type": "code",
      "metadata": {
        "colab": {
          "base_uri": "https://localhost:8080/"
        },
        "id": "TJixq5SaHjL4",
        "outputId": "e6eeeecc-8c6d-47d8-c79e-f737272b68a7"
      },
      "source": [
        "weight, bias = list(model_exemple.parameters())\n",
        "print(weight)\n",
        "print(weight.shape)\n",
        "print(bias)\n",
        "print(bias.shape)"
      ],
      "execution_count": 7,
      "outputs": [
        {
          "output_type": "stream",
          "name": "stdout",
          "text": [
            "Parameter containing:\n",
            "tensor([[-0.1003, -0.0206, -0.1398, -0.0345, -0.1236, -0.0652,  0.0926,  0.0567,\n",
            "         -0.1016,  0.0178,  0.1241, -0.0351, -0.0086, -0.0272, -0.0736,  0.0421,\n",
            "          0.0844, -0.0568,  0.0874, -0.0862,  0.0453,  0.0488, -0.0335, -0.0393,\n",
            "          0.0394,  0.1329,  0.1024,  0.1019, -0.0558, -0.1323, -0.1299, -0.0600,\n",
            "         -0.1162, -0.1074,  0.0914, -0.1368,  0.0248,  0.0804,  0.0800,  0.0168,\n",
            "          0.1312, -0.0328, -0.0249, -0.0502,  0.0297,  0.1082,  0.0878, -0.1362,\n",
            "         -0.0252, -0.0402]], requires_grad=True)\n",
            "torch.Size([1, 50])\n",
            "Parameter containing:\n",
            "tensor([-0.1341], requires_grad=True)\n",
            "torch.Size([1])\n"
          ]
        }
      ]
    },
    {
      "cell_type": "markdown",
      "metadata": {
        "id": "dswn2GPeHjL4"
      },
      "source": [
        "Si l'on instancie un nouveau modèle, ses paramètres ne seront pas les mêmes :"
      ]
    },
    {
      "cell_type": "code",
      "metadata": {
        "colab": {
          "base_uri": "https://localhost:8080/"
        },
        "id": "yEcBumkZHjL4",
        "outputId": "0814cbee-f2f7-4a02-df22-9208af3485a9"
      },
      "source": [
        "model_exemple = nn.Linear(50, 1)\n",
        "weight, bias = list(model_exemple.parameters())\n",
        "\n",
        "# Les valeurs affichées ci-dessous sont différentes des valeurs de la cellule précédente\n",
        "print(weight)\n",
        "print(weight.shape)\n",
        "print(bias)\n",
        "print(bias.shape)"
      ],
      "execution_count": 8,
      "outputs": [
        {
          "output_type": "stream",
          "name": "stdout",
          "text": [
            "Parameter containing:\n",
            "tensor([[ 0.1051,  0.0698,  0.0295,  0.0630,  0.0322,  0.0251,  0.0205,  0.1125,\n",
            "         -0.0139,  0.0610, -0.0999, -0.0982,  0.0368, -0.0585,  0.1035, -0.1318,\n",
            "          0.0301,  0.0857, -0.1333, -0.0333, -0.0412, -0.0261,  0.0972, -0.1231,\n",
            "         -0.0269,  0.0248,  0.0517, -0.0675, -0.0516, -0.0068, -0.0363, -0.1326,\n",
            "         -0.0892,  0.0286,  0.0680,  0.0685,  0.0718,  0.0426, -0.1060,  0.1273,\n",
            "          0.1093, -0.0160, -0.0653,  0.1284, -0.0153, -0.0459, -0.0208, -0.1002,\n",
            "          0.1327, -0.0732]], requires_grad=True)\n",
            "torch.Size([1, 50])\n",
            "Parameter containing:\n",
            "tensor([0.0825], requires_grad=True)\n",
            "torch.Size([1])\n"
          ]
        }
      ]
    },
    {
      "cell_type": "markdown",
      "metadata": {
        "id": "Kr75f8UzHjL4"
      },
      "source": [
        "Créons maintenant le modèle basique pour les images MNIST vectorisées.\n",
        "\n",
        "Combien de features avons-nous pour une image ? \n",
        "\n",
        "Combien de sorties avons-nous ?"
      ]
    },
    {
      "cell_type": "code",
      "metadata": {
        "colab": {
          "base_uri": "https://localhost:8080/"
        },
        "id": "1EDu2I2iHjL5",
        "outputId": "6f4f0132-127e-471f-b2b8-8f5d621bbd66"
      },
      "source": [
        "model = nn.Linear(784, 10) # 784 = 28*28\n",
        "\n",
        "# vérifions les dimensions des poids et biais : \n",
        "weight, bias = list(model.parameters())\n",
        "print(weight.shape)\n",
        "print(bias.shape)"
      ],
      "execution_count": 9,
      "outputs": [
        {
          "output_type": "stream",
          "name": "stdout",
          "text": [
            "torch.Size([10, 784])\n",
            "torch.Size([10])\n"
          ]
        }
      ]
    },
    {
      "cell_type": "markdown",
      "metadata": {
        "id": "m_shp6pzHjL5"
      },
      "source": [
        "## Faire des prédictions\n",
        "\n",
        "Voyons comment faire une prédiction avec ce modèle, dont les paramètres sont initialisés aléatoirement et qui n'a pas encore été entraîné. \n",
        "\n",
        "Quel taux de bonne classification (*accuracy*) attendre d'un tel modèle sur MNIST ?\n",
        "\n",
        "Pour faire des prédictions avec `model`, il faut une entrée $x$ qui a la forme requise. Une bonne façon de tester que l'on a défini un modèle comme on le souhaite est de le tester sur un tenseur avec la forme appropriée, rempli de valeurs aléatoires."
      ]
    },
    {
      "cell_type": "code",
      "metadata": {
        "colab": {
          "base_uri": "https://localhost:8080/"
        },
        "id": "LxWubeKWHjL5",
        "outputId": "2bd7c44c-2324-492e-9c48-82f24f8b9901"
      },
      "source": [
        "x = torch.randn(784) # crée une tenseur de rang 1 (vecteur) avec 784 features\n",
        "x.shape"
      ],
      "execution_count": 10,
      "outputs": [
        {
          "output_type": "execute_result",
          "data": {
            "text/plain": [
              "torch.Size([784])"
            ]
          },
          "metadata": {},
          "execution_count": 10
        }
      ]
    },
    {
      "cell_type": "markdown",
      "metadata": {
        "id": "Ps8wVBbTHjL6"
      },
      "source": [
        "Pour faire des prédictions, en PyTorch, on applique `model` comme une fonction, avec l'input en entrée :"
      ]
    },
    {
      "cell_type": "code",
      "metadata": {
        "colab": {
          "base_uri": "https://localhost:8080/"
        },
        "id": "S-heF6PNHjL6",
        "outputId": "f3d31137-6768-40a7-a55b-f80819adf312"
      },
      "source": [
        "y = model(x)\n",
        "y.shape, y"
      ],
      "execution_count": 11,
      "outputs": [
        {
          "output_type": "execute_result",
          "data": {
            "text/plain": [
              "(torch.Size([10]),\n",
              " tensor([ 0.0706, -1.1140, -0.4782,  1.2993, -0.7317, -0.4423,  1.6598,  0.8015,\n",
              "         -1.0290, -0.5145], grad_fn=<AddBackward0>))"
            ]
          },
          "metadata": {},
          "execution_count": 11
        }
      ]
    },
    {
      "cell_type": "markdown",
      "metadata": {
        "id": "g3iDLoUTHjL6"
      },
      "source": [
        "La sortie est un vecteur de dix nombres réels. \n",
        "\n",
        "Si nous faisions de la classification binaire, nous pourrions être intéressés par normaliser ces scores pour obtenir des probabilités. Nous pouvons utiliser la fonction d'activation `sigmoid` pour cela. \n",
        "\n",
        "\n",
        "Remarquons que MNIST comporte dix classes mutuellement exclusives, si nous voulons normaliser les scores des dix classes , ce n'est pas `sigmoid` mais `softmax` que nous utiliserons par la suite. "
      ]
    },
    {
      "cell_type": "code",
      "metadata": {
        "colab": {
          "base_uri": "https://localhost:8080/"
        },
        "id": "VgYOrsI4HjL6",
        "outputId": "0c4883fc-68e2-4f20-95ef-b722184b8bf7"
      },
      "source": [
        "torch.sigmoid(model(x))"
      ],
      "execution_count": 12,
      "outputs": [
        {
          "output_type": "execute_result",
          "data": {
            "text/plain": [
              "tensor([0.5176, 0.2471, 0.3827, 0.7857, 0.3248, 0.3912, 0.8402, 0.6903, 0.2633,\n",
              "        0.3741], grad_fn=<SigmoidBackward0>)"
            ]
          },
          "metadata": {},
          "execution_count": 12
        }
      ]
    },
    {
      "cell_type": "markdown",
      "metadata": {
        "id": "VHhVASyXHjL7"
      },
      "source": [
        "L'un des avantages de PyTorch est qu'il vectorise et parallélise le calcul pour nous.\n",
        "\n",
        "Ainsi, si nous avons un *batch* de 32 entrées pour lesquelles nous voulons faire des prédictions, nous pouvons effectuer ce calcul en utilisant un seul appel :"
      ]
    },
    {
      "cell_type": "code",
      "metadata": {
        "colab": {
          "base_uri": "https://localhost:8080/"
        },
        "id": "AP2v_XduHjL7",
        "outputId": "f5a5b04c-f37c-4813-d0c3-003a54ef3c24"
      },
      "source": [
        "x = torch.randn([32, 784]) # une pile de 32 inputs, un \"mini-batch\" de 32 exemples\n",
        "print(x.shape)\n",
        "y = model(x)\n",
        "print(y.shape)"
      ],
      "execution_count": 13,
      "outputs": [
        {
          "output_type": "stream",
          "name": "stdout",
          "text": [
            "torch.Size([32, 784])\n",
            "torch.Size([32, 10])\n"
          ]
        }
      ]
    },
    {
      "cell_type": "markdown",
      "metadata": {
        "id": "YG6Kugm1HjL7"
      },
      "source": [
        "Note : L'ordre des dimensions de $x$ est important. La taille du mini-batch passe toujours en premier, et le nombre de features à la suite.\n",
        "\n",
        "Maintenant, essayons de faire quelques \"prédictions\" avec notre modèle, sur la variable `image_tensor` de tout à l'heure :"
      ]
    },
    {
      "cell_type": "code",
      "metadata": {
        "colab": {
          "base_uri": "https://localhost:8080/"
        },
        "id": "sMRmW_CWHjL7",
        "outputId": "83caac0d-8586-490e-c17b-3e665790295e"
      },
      "source": [
        "img_tensor.shape"
      ],
      "execution_count": 14,
      "outputs": [
        {
          "output_type": "execute_result",
          "data": {
            "text/plain": [
              "torch.Size([1, 28, 28])"
            ]
          },
          "metadata": {},
          "execution_count": 14
        }
      ]
    },
    {
      "cell_type": "markdown",
      "metadata": {
        "id": "gqD0sGieHjL8"
      },
      "source": [
        "Cependant, la forme de ce tenseur n'est pas celle dont nous avons besoin.\n",
        "\n",
        "Nous devons *flatten* l'image soit en un tenseur de rang 1 (de dimension [784]),soit un tenseur de rang 2 ([1, 784]). \n",
        "\n",
        "Nous choisirons le dernier, de sorte que que la transition vers le passage de plusieurs images en même temps soit plus facile :"
      ]
    },
    {
      "cell_type": "code",
      "metadata": {
        "colab": {
          "base_uri": "https://localhost:8080/"
        },
        "id": "9IXsWBWUHjL8",
        "outputId": "782c3b45-5c2a-4e3e-f18d-e7ce16188d7e"
      },
      "source": [
        "x = img_tensor.view(1, 784)\n",
        "print(x.shape)\n",
        "z = model(x)\n",
        "print(z)\n",
        "print(z.shape)\n",
        "y = torch.softmax(z, dim=1)\n",
        "print(y)"
      ],
      "execution_count": 15,
      "outputs": [
        {
          "output_type": "stream",
          "name": "stdout",
          "text": [
            "torch.Size([1, 784])\n",
            "tensor([[-0.3236,  0.1055, -0.1152,  0.0518, -0.1000,  0.2595, -0.2139, -0.0547,\n",
            "         -0.2615, -0.3514]], grad_fn=<AddmmBackward0>)\n",
            "torch.Size([1, 10])\n",
            "tensor([[0.0786, 0.1207, 0.0968, 0.1144, 0.0983, 0.1408, 0.0877, 0.1028, 0.0836,\n",
            "         0.0764]], grad_fn=<SoftmaxBackward0>)\n"
          ]
        }
      ]
    },
    {
      "cell_type": "markdown",
      "metadata": {
        "id": "ANmjuH9rHjL8"
      },
      "source": [
        "Le `dim=1` dans le softmax indique à PyTorch sur quelle dimension appliquer la fonction. Nous voulons que les sorties $y$ soient une distribution de probabilité à travers les *classes* (`dim=1`), et non pas les différentes images (`dim=0`).\n",
        "\n",
        "## Loss (fonction de perte)\n",
        "\n",
        "Pour que le réseau soit vraiment utile, nous devons l'entraîner, de sorte que\n",
        "que les poids aient des valeurs non aléatoires, pertinentes pour la tâche de classification. Nous utiliserons le réseau pour faire des prédictions, puis nous comparerons les prédictions à la vérité de base via la fonction de perte.\n",
        "\n",
        "Exemples de fonctions de perte standards pour la classification :  \n",
        "\n",
        "*   `nn.BCEWithLogitsLoss()` : classification binaire\n",
        "*   `nn.CrossEntropyLoss()` : classification multi-classe\n"
      ]
    },
    {
      "cell_type": "code",
      "metadata": {
        "id": "EaxYvX0qHjL8"
      },
      "source": [
        "criterion = nn.CrossEntropyLoss()"
      ],
      "execution_count": 16,
      "outputs": []
    },
    {
      "cell_type": "markdown",
      "metadata": {
        "id": "4n1ptJPSHjL8"
      },
      "source": [
        "Ce critère peut également être appelé comme une fonction. Il prend comme paramètres des prédictions appelées `logit` et les labels, et renvoie une valeur réelle (la perte ou la loss pour un mini-batch donné). Deux choses à garder à l'esprit pour cette fonction :\n",
        "\n",
        "1. Les fonctions de perte comme celle-ci prennent généralement les **logits** en entrée, qui sont les valeurs (scores) réelles issues de la dernière couche d'un réseau de neurones, avant application d'une fonction d'activation (sigmoid ou softmax). Il s'agit des préactivations. Ceci pour des raisons de stabilité numérique.\n",
        "2. Cette fonction de perte prend l'indice entier pour les labels, **index**, plutôt qu'un vecteur one-hot."
      ]
    },
    {
      "cell_type": "code",
      "metadata": {
        "colab": {
          "base_uri": "https://localhost:8080/"
        },
        "id": "jOHl3NFvHjL8",
        "outputId": "76ea1ae1-a4f6-4e8d-eb4e-0104bc99515d"
      },
      "source": [
        "loss = criterion(y, torch.Tensor([8]).long()) # digit 8 = la 8ème classe\n",
        "print(loss)"
      ],
      "execution_count": 17,
      "outputs": [
        {
          "output_type": "stream",
          "name": "stdout",
          "text": [
            "tensor(2.3192, grad_fn=<NllLossBackward0>)\n"
          ]
        }
      ]
    },
    {
      "cell_type": "markdown",
      "metadata": {
        "id": "pj75CJlbHjL9"
      },
      "source": [
        "## Optimisation et régularisation L2 (\"Weight Decay\")\n",
        "\n",
        "PyTorch calcule les dérivées pour nous en utilisant la *différenciation automatique* avec les principes vus en cours.\n",
        "\n",
        "Nous devons spécifier un **optimiseur** (comme la descente de gradient stochastique), et utiliser l'optimiseur pour déterminer comment mettre à jour les poids pendant l'apprentissage."
      ]
    },
    {
      "cell_type": "code",
      "metadata": {
        "id": "4sF9yXV6HjL9"
      },
      "source": [
        "import torch.optim as optim\n",
        "optimizer = optim.SGD(model.parameters(), lr=0.005) # lr = learning rate\n",
        "\n",
        "# Voici les trois lignes de code nécessaires pour faire \n",
        "# une itération de descente de gradient :\n",
        "loss.backward()       # calcule les gradients par rapport aux poids et biais du réseau\n",
        "optimizer.step()      # modifie les poids et biais\n",
        "optimizer.zero_grad() # met à zéro les tenseurs des gradients sinon ils sont accumulés d'une itération à l'autre"
      ],
      "execution_count": 18,
      "outputs": []
    },
    {
      "cell_type": "markdown",
      "metadata": {
        "id": "eszgXKILHjL9"
      },
      "source": [
        "Nous pouvons également ajouter une régularisation $\\ell_2$ via l'optimiseur avec l'option `weight_decay` :"
      ]
    },
    {
      "cell_type": "code",
      "metadata": {
        "id": "IraPXV1fHjL9"
      },
      "source": [
        "optimizer = optim.SGD(model.parameters(), lr=0.005, weight_decay=0.01)"
      ],
      "execution_count": 19,
      "outputs": []
    },
    {
      "cell_type": "markdown",
      "metadata": {
        "id": "lkYJM2CJHjL9"
      },
      "source": [
        "## Produire des mini-batchs : \"batching\"\n",
        "\n",
        "Au premier TP, nous avions générer nous-mêmes des mini-batchs de données. L'objet DataLoader de PyTorch permet d'instancier un itérateur pour créer des minibatchs :"
      ]
    },
    {
      "cell_type": "code",
      "metadata": {
        "colab": {
          "base_uri": "https://localhost:8080/"
        },
        "id": "WbUKcslnHjL9",
        "outputId": "65609429-3b86-48d3-b732-3490a24fc7eb"
      },
      "source": [
        "train_loader = torch.utils.data.DataLoader(mnist_train,\n",
        "                                           batch_size=32, \n",
        "                                           shuffle=True)  # shuffle avant chaque epoch\n",
        "\n",
        "for (xs, ts) in enumerate(train_loader):\n",
        "    print(xs) # image (pixels)\n",
        "    print(ts) # targets ou labels\n",
        "    break\n",
        "\n",
        "# Essayez de changer batch_size "
      ],
      "execution_count": 20,
      "outputs": [
        {
          "output_type": "stream",
          "name": "stdout",
          "text": [
            "0\n",
            "[tensor([[[[0., 0., 0.,  ..., 0., 0., 0.],\n",
            "          [0., 0., 0.,  ..., 0., 0., 0.],\n",
            "          [0., 0., 0.,  ..., 0., 0., 0.],\n",
            "          ...,\n",
            "          [0., 0., 0.,  ..., 0., 0., 0.],\n",
            "          [0., 0., 0.,  ..., 0., 0., 0.],\n",
            "          [0., 0., 0.,  ..., 0., 0., 0.]]],\n",
            "\n",
            "\n",
            "        [[[0., 0., 0.,  ..., 0., 0., 0.],\n",
            "          [0., 0., 0.,  ..., 0., 0., 0.],\n",
            "          [0., 0., 0.,  ..., 0., 0., 0.],\n",
            "          ...,\n",
            "          [0., 0., 0.,  ..., 0., 0., 0.],\n",
            "          [0., 0., 0.,  ..., 0., 0., 0.],\n",
            "          [0., 0., 0.,  ..., 0., 0., 0.]]],\n",
            "\n",
            "\n",
            "        [[[0., 0., 0.,  ..., 0., 0., 0.],\n",
            "          [0., 0., 0.,  ..., 0., 0., 0.],\n",
            "          [0., 0., 0.,  ..., 0., 0., 0.],\n",
            "          ...,\n",
            "          [0., 0., 0.,  ..., 0., 0., 0.],\n",
            "          [0., 0., 0.,  ..., 0., 0., 0.],\n",
            "          [0., 0., 0.,  ..., 0., 0., 0.]]],\n",
            "\n",
            "\n",
            "        ...,\n",
            "\n",
            "\n",
            "        [[[0., 0., 0.,  ..., 0., 0., 0.],\n",
            "          [0., 0., 0.,  ..., 0., 0., 0.],\n",
            "          [0., 0., 0.,  ..., 0., 0., 0.],\n",
            "          ...,\n",
            "          [0., 0., 0.,  ..., 0., 0., 0.],\n",
            "          [0., 0., 0.,  ..., 0., 0., 0.],\n",
            "          [0., 0., 0.,  ..., 0., 0., 0.]]],\n",
            "\n",
            "\n",
            "        [[[0., 0., 0.,  ..., 0., 0., 0.],\n",
            "          [0., 0., 0.,  ..., 0., 0., 0.],\n",
            "          [0., 0., 0.,  ..., 0., 0., 0.],\n",
            "          ...,\n",
            "          [0., 0., 0.,  ..., 0., 0., 0.],\n",
            "          [0., 0., 0.,  ..., 0., 0., 0.],\n",
            "          [0., 0., 0.,  ..., 0., 0., 0.]]],\n",
            "\n",
            "\n",
            "        [[[0., 0., 0.,  ..., 0., 0., 0.],\n",
            "          [0., 0., 0.,  ..., 0., 0., 0.],\n",
            "          [0., 0., 0.,  ..., 0., 0., 0.],\n",
            "          ...,\n",
            "          [0., 0., 0.,  ..., 0., 0., 0.],\n",
            "          [0., 0., 0.,  ..., 0., 0., 0.],\n",
            "          [0., 0., 0.,  ..., 0., 0., 0.]]]]), tensor([1, 2, 5, 0, 1, 8, 5, 3, 4, 8, 6, 6, 4, 9, 0, 6, 0, 3, 8, 0, 7, 2, 7, 7,\n",
            "        3, 9, 1, 2, 8, 7, 3, 0])]\n"
          ]
        }
      ]
    },
    {
      "cell_type": "markdown",
      "metadata": {
        "id": "Ly7NcSEKHjL-"
      },
      "source": [
        "## Mettons tout cela ensemble"
      ]
    },
    {
      "cell_type": "code",
      "metadata": {
        "id": "w4kcjPfwHjL-"
      },
      "source": [
        "def run_gradient_descent(model,\n",
        "                         batch_size=64,\n",
        "                         learning_rate=0.01,\n",
        "                         weight_decay=0,\n",
        "                         num_epochs=10):\n",
        "    \"\"\"fonction qui réalise l'entraînement de model sur mnist_train et mesure l'accuracy sur mnist_train et mnist_val régulièrement\"\"\"\n",
        "\n",
        "    criterion = nn.CrossEntropyLoss()\n",
        "    optimizer = optim.SGD(model.parameters(), lr=learning_rate, weight_decay=weight_decay)\n",
        "\n",
        "    iters, losses = [], []\n",
        "    iters_sub, train_acc, val_acc  = [], [] ,[]\n",
        "\n",
        "    train_loader = torch.utils.data.DataLoader(\n",
        "        mnist_train,\n",
        "        batch_size=batch_size,\n",
        "        shuffle=True)\n",
        "\n",
        "    # Boucles d'apprentissage\n",
        "    n = 0 # nombre d'itérations\n",
        "    for epoch in range(num_epochs):\n",
        "        for xs, ts in iter(train_loader):\n",
        "            if len(ts) != batch_size:\n",
        "                continue\n",
        "            xs = xs.view(-1, 784)    # flatten. Le -1 est un \"joker\"\n",
        "            zs = model(xs)\n",
        "            loss = criterion(zs, ts) # calcul de la loss\n",
        "            loss.backward()          # calcul des gradients\n",
        "            optimizer.step()         # faire les updates\n",
        "            optimizer.zero_grad()    # mise à zéro des gradients\n",
        "\n",
        "            # pour plots futurs\n",
        "            iters.append(n)\n",
        "            losses.append(float(loss)/batch_size)  # calcul de la loss moyenne\n",
        "\n",
        "            if n % 10 == 0:\n",
        "                iters_sub.append(n)\n",
        "                train_acc.append(get_accuracy(model, mnist_train))\n",
        "                val_acc.append(get_accuracy(model, mnist_val))\n",
        "            # incrémenter l'itération\n",
        "            n += 1\n",
        "\n",
        "    # plot\n",
        "    plt.title(\"Training avec batch_size={}, lr={}\".format(batch_size, learning_rate))\n",
        "    plt.plot(iters, losses, label=\"Train\")\n",
        "    plt.xlabel(\"Iterations\")\n",
        "    plt.ylabel(\"Loss\")\n",
        "    plt.show()\n",
        "\n",
        "    plt.title(\"Training avec batch_size={}, lr={}\".format(batch_size, learning_rate))\n",
        "    plt.plot(iters_sub, train_acc, label=\"Train\")\n",
        "    plt.plot(iters_sub, val_acc, label=\"Validation\")\n",
        "    plt.xlabel(\"Iterations\")\n",
        "    plt.ylabel(\"Accuracy\")\n",
        "    plt.legend(loc='best')\n",
        "    plt.show()\n",
        "\n",
        "    return model\n",
        "\n",
        "def get_accuracy(model, data):\n",
        "    \"\"\"fonction qui calcule le taux de bonne classification (accuracy)\"\"\"\n",
        "    loader = torch.utils.data.DataLoader(data, batch_size=500)\n",
        "\n",
        "    correct, total = 0, 0\n",
        "    for xs, ts in loader:\n",
        "        xs = xs.view(-1, 784) # flatten \n",
        "        zs = model(xs)\n",
        "        pred = zs.max(1, keepdim=True)[1] \n",
        "        correct += pred.eq(ts.view_as(pred)).sum().item()\n",
        "        total += int(ts.shape[0])\n",
        "        return correct / total"
      ],
      "execution_count": 21,
      "outputs": []
    },
    {
      "cell_type": "markdown",
      "metadata": {
        "id": "fN5LVPIBHjL_"
      },
      "source": [
        "Entraînons le modèle. Commenter les courbes obtenues."
      ]
    },
    {
      "cell_type": "code",
      "metadata": {
        "colab": {
          "base_uri": "https://localhost:8080/",
          "height": 590
        },
        "id": "NUgvLWi_HjL_",
        "outputId": "22c34757-d309-4401-9ac7-cf1c846445d3"
      },
      "source": [
        "model = nn.Linear(784, 10)\n",
        "run_gradient_descent(model, batch_size=64, learning_rate=0.01, num_epochs=10)"
      ],
      "execution_count": 22,
      "outputs": [
        {
          "output_type": "display_data",
          "data": {
            "text/plain": [
              "<Figure size 432x288 with 1 Axes>"
            ],
            "image/png": "[encoded data removed]"
          },
          "metadata": {
            "needs_background": "light"
          }
        },
        {
          "output_type": "display_data",
          "data": {
            "text/plain": [
              "<Figure size 432x288 with 1 Axes>"
            ],
            "image/png": "[encoded data removed]"
          },
          "metadata": {
            "needs_background": "light"
          }
        },
        {
          "output_type": "execute_result",
          "data": {
            "text/plain": [
              "Linear(in_features=784, out_features=10, bias=True)"
            ]
          },
          "metadata": {},
          "execution_count": 22
        }
      ]
    },
    {
      "cell_type": "markdown",
      "metadata": {
        "id": "XizyLan3HjL_"
      },
      "source": [
        "## À vous d'essayer :\n",
        "\n",
        "- Changer la batch size\n",
        "- Changer le weight decay \n",
        "- Réduire la taille du subset de train\n",
        "- Changer le learning rate\n",
        "\n",
        "\n",
        "## La suite ? \n",
        "\n",
        "- Comment définir un modèle plus complexe avec plus d'une couche ?\n",
        "Réponse dans le prochain sujet !"
      ]
    },
    {
      "cell_type": "code",
      "metadata": {
        "id": "oqSuRIvwVz6n"
      },
      "source": [],
      "execution_count": 22,
      "outputs": []
    }
  ]
}